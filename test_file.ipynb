{
 "cells": [
  {
   "cell_type": "code",
   "execution_count": null,
   "metadata": {},
   "outputs": [],
   "source": [
    "#To import the data:\n",
    "\n",
    "from prb.import_dataset impor ECNO\n",
    "data_model = ECNO(ratio = 0.2, protein_feature = pf, pre_determined = True, set_type = 'target')\n",
    "X_train,X_test,X_validation,y_train,y_test,y_validation = data_model.get_data(data_name = ec_1-2-2)"
   ]
  },
  {
   "cell_type": "code",
   "execution_count": null,
   "metadata": {},
   "outputs": [],
   "source": [
    "#To train the data:\n",
    "import pickle\n",
    "from prb.process_learn_evaluate import scale_methods, classification_methods, evaluate_score\n",
    "\n",
    "#Let's define model path where training model will be saved.\n",
    "model_path = 'model_path.txt'\n",
    "\n",
    "#Then sets are scaled to eleminate bias. Scaler is obtained from train data and can be used for different sets\n",
    "X_train,scaler = scale_methods(X_train,scale_type = 'Standard_Scaler')\n",
    "X_test,X_validation = scaler.transform(X_test),scaler.transform(X_validation)\n",
    "\n",
    "#After assigning paths and scaling datasets, training can be done manually like this way:\n",
    "classification_methods(path = model_path,ml_type = m,\n",
    "                                        X_train = X_train,\n",
    "                                        y_train = y_train,\n",
    "                                        cv = None)"
   ]
  },
  {
   "cell_type": "code",
   "execution_count": null,
   "metadata": {},
   "outputs": [],
   "source": [
    "#To get saved model, following code can be run.\n",
    "model = pickle.load(open(model_path,'rb'))\n",
    "\n",
    "#After that, for all sets evaluation metrics can be obtained separately.\n",
    "score_train,f_train = evaluate_score(model,X_train,y_train)\n",
    "score_test,f_test = evaluate_score(model,X_test,y_test)\n",
    "score_validation,f_validation = evaluate_score(model,X_validation,y_validation)"
   ]
  },
  {
   "cell_type": "code",
   "execution_count": null,
   "metadata": {},
   "outputs": [],
   "source": [
    "#If user wants to see all results in a table, following codes can be run:\n",
    "from prb.utils import form_table\n",
    "\n",
    "score_path = 'score_path.csv' #To save the results.\n",
    "\n",
    "scores = [score_train,score_test,score_validation]\n",
    "size_of = [str(len(X_train))  + \n",
    "            'x' + str(len(X_train[0])),str(len(X_test))  +\n",
    "            'x' + str(len(X_test[0])),str(len(X_validation))  +\n",
    "            'x' + str(len(X_validation [0]))]\n",
    "\n",
    "preds = [f_train,f_test,f_validation]\n",
    "names = ['Train','Test','Validation']\n",
    "form_table(score_path = score_path, names = names,\n",
    "         scores = scores,sizes = size_of, \n",
    "         learning_type = learning_type,preds = preds)"
   ]
  }
 ],
 "metadata": {
  "kernelspec": {
   "display_name": "Python 3",
   "language": "python",
   "name": "python3"
  },
  "language_info": {
   "codemirror_mode": {
    "name": "ipython",
    "version": 3
   },
   "file_extension": ".py",
   "mimetype": "text/x-python",
   "name": "python",
   "nbconvert_exporter": "python",
   "pygments_lexer": "ipython3",
   "version": "3.7.6"
  }
 },
 "nbformat": 4,
 "nbformat_minor": 4
}
