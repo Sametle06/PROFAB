{
 "cells": [
  {
   "cell_type": "markdown",
   "metadata": {},
   "source": [
    "# User Case"
   ]
  },
  {
   "cell_type": "markdown",
   "metadata": {},
   "source": [
    "PROFAB is a benchmarking platform that provides dataset, classifies the proteins according functional annotations and evaluates the training models. The reason to do this platform is providing complete sets of dataset-training-evaluation triangle. Since the workflow is dense, an easy to implement user case is prepared."
   ]
  },
  {
   "cell_type": "markdown",
   "metadata": {},
   "source": [
    "## 1. Data Importing"
   ]
  },
  {
   "cell_type": "markdown",
   "metadata": {},
   "source": [
    "To import data in Python, following lines of code can be used. It is designed as easy to implement and if user needs to import multiple dataset at the sametime a loop can be used. For example following codes can be examined:"
   ]
  },
  {
   "cell_type": "markdown",
   "metadata": {},
   "source": [
    "- To import single dataset from Enzyme Commission Number prediction"
   ]
  },
  {
   "cell_type": "code",
   "execution_count": 1,
   "metadata": {
    "scrolled": false
   },
   "outputs": [],
   "source": [
    "from profab.import_dataset import ECNO,GOID\n",
    "data_model = GOID(ratio = 0.2, protein_feature = 'paac', pre_determined = True, set_type = 'temporal')\n",
    "X_train,X_test,X_validation,y_train,y_test,y_validation = data_model.get_data(data_name = 'GO_0000018')"
   ]
  },
  {
   "cell_type": "markdown",
   "metadata": {},
   "source": [
    "- If the one drives the program for any Gene Ontology term, then GOID function should be run. "
   ]
  },
  {
   "cell_type": "markdown",
   "metadata": {},
   "source": [
    "## 2. Training"
   ]
  },
  {
   "cell_type": "markdown",
   "metadata": {},
   "source": [
    "PROFAB can train any type of data. It provides both classification and regression training. Since our datasets are based on classication of proteins, as an example, classification method will be shown. As soon as regression based datasets are added to ProFAB, the same process will be valid for regression, too.\n",
    "\n",
    "After training session, outcome of training can be stored in 'model_path' ```if path != None```. Because this process lasts to long, saving the outcome will be time-saver. Stored model must be exported and be imported with 'pickle' a Python library."
   ]
  },
  {
   "cell_type": "code",
   "execution_count": null,
   "metadata": {},
   "outputs": [],
   "source": [
    "#To train the data:\n",
    "import pickle\n",
    "from profab.model_process import scale_methods, classification_methods\n",
    "\n",
    "#Let's define model path where training model will be saved.\n",
    "model_path = 'model_path.txt'\n",
    "\n",
    "#Then sets are scaled to eleminate bias. Scaler is obtained from train data and can be used for different sets\n",
    "X_train,scaler = scale_methods(X_train,scale_type = 'standard')\n",
    "X_test,X_validation = scaler.transform(X_test),scaler.transform(X_validation)\n",
    "\n",
    "#After assigning paths and scaling datasets, training can be done manually like this way (validation by hand):\n",
    "model = classification_methods(ml_type = 'logistic_reg',\n",
    "                                X_train = X_train,\n",
    "                                y_train = y_train,\n",
    "                                X_valid = X_validation,\n",
    "                                y_valid = y_validation,\n",
    "                                path = model_path\n",
    "                                )"
   ]
  },
  {
   "cell_type": "markdown",
   "metadata": {},
   "source": [
    "## 3. Evaluation"
   ]
  },
  {
   "cell_type": "markdown",
   "metadata": {},
   "source": [
    "After training session is done, evaluation can be done with following lines of code. The output of evaluation is given below of code."
   ]
  },
  {
   "cell_type": "markdown",
   "metadata": {},
   "source": [
    "### Get Scores"
   ]
  },
  {
   "cell_type": "code",
   "execution_count": null,
   "metadata": {},
   "outputs": [],
   "source": [
    "#by returning model, it can be directly used or\n",
    "#saved model can be obtained by using 'pickle' package.\n",
    "model = pickle.load(open(model_path,'rb'))\n",
    "\n",
    "from profab.model_evaluate import evaluate_score\n",
    "\n",
    "score_train,f_train = evaluate_score(model,X_train,y_train,preds = True)\n",
    "score_test,f_test = evaluate_score(model,X_test,y_test,preds = True)\n",
    "score_validation,f_validation = evaluate_score(model,X_validation,y_validation,preds = True)"
   ]
  },
  {
   "cell_type": "markdown",
   "metadata": {},
   "source": [
    "The score of train and test are given for data: 'ecNo_1-2-7 'target'."
   ]
  },
  {
   "cell_type": "code",
   "execution_count": null,
   "metadata": {},
   "outputs": [],
   "source": [
    "print(score_train)"
   ]
  },
  {
   "cell_type": "code",
   "execution_count": null,
   "metadata": {},
   "outputs": [],
   "source": [
    "print(score_test)"
   ]
  },
  {
   "cell_type": "code",
   "execution_count": null,
   "metadata": {},
   "outputs": [],
   "source": [
    "print(score_validation)"
   ]
  },
  {
   "cell_type": "markdown",
   "metadata": {},
   "source": [
    "### Table Formating"
   ]
  },
  {
   "cell_type": "markdown",
   "metadata": {},
   "source": [
    "To get the data in table format, following lines of code can be executed. Besides scores, sizes of each sets are also given. Tables is stored in .csv format"
   ]
  },
  {
   "cell_type": "code",
   "execution_count": null,
   "metadata": {},
   "outputs": [],
   "source": [
    "#If user wants to see all results in a table, following codes can be run:\n",
    "from profab.model_evaluate import form_table\n",
    "\n",
    "score_path = 'score_path.csv' #To save the results.\n",
    "\n",
    "scores = {'train':score_train,'test':score_test,'validation':score_validation}\n",
    "form_table(scores = scores, path = score_path)"
   ]
  },
  {
   "cell_type": "markdown",
   "metadata": {},
   "source": [
    "### Feature Extraction from Protein Sequences"
   ]
  },
  {
   "cell_type": "markdown",
   "metadata": {},
   "source": [
    "Other than other functionalities, ProFAB also provides users extracting numerical features by introducing\n",
    "protein sequence data with many protein descriptor methods. To implement this module following lines can be run:"
   ]
  },
  {
   "cell_type": "code",
   "execution_count": null,
   "metadata": {},
   "outputs": [],
   "source": [
    "from profab.feature_extraction_module import *\n",
    "feature_extracter.extract_protein_feature('edp', 1, \n",
    "                                          'profab/feature_extraction_module/input_folder', \n",
    "                                          'sample_file')"
   ]
  }
 ],
 "metadata": {
  "kernelspec": {
   "display_name": "Python 3",
   "language": "python",
   "name": "python3"
  },
  "language_info": {
   "codemirror_mode": {
    "name": "ipython",
    "version": 3
   },
   "file_extension": ".py",
   "mimetype": "text/x-python",
   "name": "python",
   "nbconvert_exporter": "python",
   "pygments_lexer": "ipython3",
   "version": "3.7.6"
  }
 },
 "nbformat": 4,
 "nbformat_minor": 4
}
